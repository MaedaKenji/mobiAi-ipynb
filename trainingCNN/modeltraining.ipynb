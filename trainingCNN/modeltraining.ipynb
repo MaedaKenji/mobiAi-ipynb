{
  "cells": [
    {
      "cell_type": "markdown",
      "id": "-ILFOHXh1hTQ",
      "metadata": {
        "id": "-ILFOHXh1hTQ"
      },
      "source": [
        "#**MODEL FITTING AND TRAINING**"
      ]
    },
    {
      "cell_type": "code",
      "execution_count": 1,
      "id": "24373444",
      "metadata": {
        "id": "24373444"
      },
      "outputs": [],
      "source": [
        "from tensorflow.keras.preprocessing.image import ImageDataGenerator\n",
        "from tensorflow.keras.preprocessing import image\n",
        "from tensorflow.keras.optimizers import RMSprop\n",
        "from keras.callbacks import EarlyStopping, ReduceLROnPlateau\n",
        "import tensorflow as tf\n",
        "import matplotlib.pyplot as plt\n",
        "import cv2\n",
        "import os\n",
        "import numpy as np"
      ]
    },
    {
      "cell_type": "code",
      "execution_count": 2,
      "id": "1a9f0142",
      "metadata": {},
      "outputs": [
        {
          "name": "stdout",
          "output_type": "stream",
          "text": [
            "Num GPUs Available:  0\n"
          ]
        }
      ],
      "source": [
        "print(\"Num GPUs Available: \", len(tf.config.list_physical_devices('GPU')))"
      ]
    },
    {
      "cell_type": "code",
      "execution_count": 3,
      "id": "3d9df4e5",
      "metadata": {
        "id": "3d9df4e5"
      },
      "outputs": [],
      "source": [
        "train = ImageDataGenerator(\n",
        "    validation_split=0.3,\n",
        "    rescale=1/255,\n",
        "    rotation_range=10,      # Slight rotations\n",
        "    shear_range=0.1,        # Slight shearing\n",
        "    brightness_range=(0.8, 1.2),  # Slight brightness changes\n",
        "    fill_mode='nearest'     # Fill in new pixels after a transformation\n",
        ")\n",
        "\n",
        "validation = ImageDataGenerator(\n",
        "    validation_split=0.3,\n",
        "    rescale=1/255,\n",
        "    rotation_range=10,      # Slight rotations\n",
        "    shear_range=0.1,        # Slight shearing\n",
        "    brightness_range=(0.8, 1.2),  # Slight brightness changes\n",
        "    fill_mode='nearest'     # Fill in new pixels after a transformation\n",
        ")"
      ]
    },
    {
      "cell_type": "code",
      "execution_count": 13,
      "id": "f2997b8d",
      "metadata": {
        "colab": {
          "base_uri": "https://localhost:8080/"
        },
        "id": "f2997b8d",
        "outputId": "095fe4a9-4221-48f5-c0d4-bc823585cd5b"
      },
      "outputs": [
        {
          "name": "stdout",
          "output_type": "stream",
          "text": [
            "Found 6968 images belonging to 5 classes.\n",
            "Found 2985 images belonging to 5 classes.\n"
          ]
        }
      ],
      "source": [
        "# myDir = r'C:\\TA\\trainCNN\\30cm'\n",
        "myDir = r'C:/TA/trainCNN/dataset'\n",
        "# train_dataset = train.flow_from_directory('70cm', target_size = (30,200), batch_size = 5, shuffle=False, class_mode = 'categorical', subset='training') # original\n",
        "train_dataset = train.flow_from_directory(myDir, target_size = (30,200), batch_size = 5, shuffle=False, class_mode = 'categorical', subset='training') # \n",
        "# validation_dataset = train.flow_from_directory('70cm', target_size = (30,200), batch_size = 5, shuffle=False, class_mode = 'categorical', subset='validation') # original\n",
        "validation_dataset = train.flow_from_directory(myDir, target_size = (30,200), batch_size = 5, shuffle=False, class_mode = 'categorical', subset='validation') # "
      ]
    },
    {
      "cell_type": "code",
      "execution_count": 5,
      "id": "93c0311f",
      "metadata": {
        "colab": {
          "base_uri": "https://localhost:8080/"
        },
        "id": "93c0311f",
        "outputId": "cd6576b5-09cf-48a0-f44e-d73d8698119e"
      },
      "outputs": [
        {
          "data": {
            "text/plain": [
              "{'Kanan': 0, 'Kiri': 1, 'Maju': 2, 'Mundur': 3, 'Stop': 4}"
            ]
          },
          "execution_count": 5,
          "metadata": {},
          "output_type": "execute_result"
        }
      ],
      "source": [
        "train_dataset.class_indices"
      ]
    },
    {
      "cell_type": "code",
      "execution_count": null,
      "id": "ed9d8b6b",
      "metadata": {},
      "outputs": [],
      "source": [
        "# MODEL 3\n",
        "# model = tf.keras.models.Sequential([\n",
        "    # First convolutional layer\n",
        "    tf.keras.layers.Conv2D(32, (3,3), activation='relu', input_shape=(30, 200, 3)),\n",
        "    tf.keras.layers.MaxPool2D(2,2),\n",
        "\n",
        "    # Dropout layer added after max pooling\n",
        "    #tf.keras.layers.Dropout(0.25),  # Typically, a dropout rate between 0.2 and 0.5 is used\n",
        "\n",
        "    # Second convolutional layer\n",
        "    tf.keras.layers.Conv2D(64, (3,3), activation='relu'),\n",
        "    tf.keras.layers.MaxPool2D(2,2),\n",
        "\n",
        "    # Dropout layer added after max pooling\n",
        "    #tf.keras.layers.Dropout(0.25),  # Typically, a dropout rate between 0.2 and 0.5 is used\n",
        "\n",
        "    # Flatten the output and feed it into a dense layer\n",
        "    tf.keras.layers.Flatten(),\n",
        "\n",
        "    # Dense layer with fewer neurons\n",
        "    tf.keras.layers.Dense(128, activation='relu' ),\n",
        "\n",
        "    # Dropout layer added before the output layer\n",
        "    #tf.keras.layers.Dropout(0.5),  # Typically, a dropout rate between 0.2 and 0.5 is used\n",
        "\n",
        "    # Output layer\n",
        "    tf.keras.layers.Dense(5, activation='softmax')\n",
        "])"
      ]
    },
    {
      "cell_type": "code",
      "execution_count": 15,
      "id": "826681d1",
      "metadata": {
        "id": "826681d1"
      },
      "outputs": [],
      "source": [
        "# MODEL 4\n",
        "\n",
        "model = tf.keras.models.Sequential([\n",
        "    # First convolutional layer\n",
        "    tf.keras.layers.Conv2D(32, (3,3), activation='relu', input_shape=(30, 200, 3), padding='same'),\n",
        "    tf.keras.layers.MaxPool2D(2,2),\n",
        "\n",
        "    # Dropout layer added after max pooling\n",
        "    #tf.keras.layers.Dropout(0.25),  # Typically, a dropout rate between 0.2 and 0.5 is used\n",
        "\n",
        "    # Second convolutional layer\n",
        "    tf.keras.layers.Conv2D(64, (3,3), activation='relu', padding='same'),\n",
        "    tf.keras.layers.MaxPool2D(2,2),\n",
        "\n",
        "    # Dropout layer added after max pooling\n",
        "    #tf.keras.layers.Dropout(0.25),  # Typically, a dropout rate between 0.2 and 0.5 is used\n",
        "\n",
        "    # Third convolutional layer, origin\n",
        "    tf.keras.layers.Conv2D(128, (3,3), activation='relu', padding='same'),\n",
        "    tf.keras.layers.MaxPool2D(2,2),\n",
        "\n",
        "    # Dropout layer added after max pooling\n",
        "    #tf.keras.layers.Dropout(0.25),  # Typically, a dropout rate between 0.2 and 0.5 is used\n",
        "\n",
        "    # Fourth convolutional layer\n",
        "    #tf.keras.layers.Conv2D(256, (3,3), activation='relu', padding='same'),\n",
        "    #tf.keras.layers.MaxPool2D(2,2),\n",
        "\n",
        "    # Dropout layer added after max pooling\n",
        "    tf.keras.layers.Dropout(0.25),  # Typically, a dropout rate between 0.2 and 0.5 is used\n",
        "\n",
        "    # Flatten the output and feed it into a dense layer\n",
        "    tf.keras.layers.Flatten(),\n",
        "\n",
        "    # Dense layer with fewer neurons\n",
        "    tf.keras.layers.Dense(256, activation='relu'),\n",
        "\n",
        "    # Dropout layer added before the output layer\n",
        "    tf.keras.layers.Dropout(0.5),  # Typically, a dropout rate between 0.2 and 0.5 is used\n",
        "\n",
        "    # Output layer\n",
        "    tf.keras.layers.Dense(5, activation='softmax')\n",
        "])\n"
      ]
    },
    {
      "cell_type": "code",
      "execution_count": 7,
      "id": "16464451",
      "metadata": {
        "id": "16464451"
      },
      "outputs": [],
      "source": [
        "# del model"
      ]
    },
    {
      "cell_type": "code",
      "execution_count": 20,
      "id": "4fe2e0ab",
      "metadata": {
        "id": "4fe2e0ab"
      },
      "outputs": [],
      "source": [
        "rlrop = ReduceLROnPlateau(monitor='val_loss', factor=0.1, patience=100)\n",
        "\n",
        "early_stop = EarlyStopping(\n",
        "    monitor='val_loss',  # Metric to monitor\n",
        "    patience=10,          # Number of epochs with no improvement after which training will be stopped\n",
        "    verbose=1,           # To log when training is being stopped\n",
        "    restore_best_weights=True  # Restores model weights from the epoch with the best value of the monitored metric\n",
        ")"
      ]
    },
    {
      "cell_type": "code",
      "execution_count": 21,
      "id": "dac565d5",
      "metadata": {
        "id": "dac565d5"
      },
      "outputs": [],
      "source": [
        "model.compile(loss= 'categorical_crossentropy',\n",
        "             optimizer = 'Adam',\n",
        "             metrics = ['accuracy'])"
      ]
    },
    {
      "cell_type": "code",
      "execution_count": 22,
      "id": "455e5f08",
      "metadata": {
        "colab": {
          "base_uri": "https://localhost:8080/"
        },
        "id": "455e5f08",
        "outputId": "339160fe-a42b-44da-c4cb-b59160bc2fe9"
      },
      "outputs": [
        {
          "name": "stdout",
          "output_type": "stream",
          "text": [
            "Epoch 1/100\n",
            "10/10 - 6s - 588ms/step - accuracy: 0.3000 - loss: 1.7240 - val_accuracy: 0.2858 - val_loss: 1.6058 - learning_rate: 0.0010\n",
            "Epoch 2/100\n",
            "10/10 - 5s - 466ms/step - accuracy: 0.4400 - loss: 1.5569 - val_accuracy: 0.3598 - val_loss: 1.6231 - learning_rate: 0.0010\n",
            "Epoch 3/100\n",
            "10/10 - 5s - 452ms/step - accuracy: 0.5400 - loss: 1.5408 - val_accuracy: 0.5196 - val_loss: 1.5436 - learning_rate: 0.0010\n",
            "Epoch 4/100\n",
            "10/10 - 5s - 455ms/step - accuracy: 0.3800 - loss: 1.5525 - val_accuracy: 0.5467 - val_loss: 1.4507 - learning_rate: 0.0010\n",
            "Epoch 5/100\n",
            "10/10 - 5s - 458ms/step - accuracy: 0.3800 - loss: 1.5360 - val_accuracy: 0.4727 - val_loss: 1.4067 - learning_rate: 0.0010\n",
            "Epoch 6/100\n",
            "10/10 - 4s - 449ms/step - accuracy: 0.4000 - loss: 1.3653 - val_accuracy: 0.5668 - val_loss: 1.3585 - learning_rate: 0.0010\n",
            "Epoch 7/100\n",
            "10/10 - 5s - 451ms/step - accuracy: 0.3125 - loss: 1.4608 - val_accuracy: 0.4539 - val_loss: 1.2308 - learning_rate: 0.0010\n",
            "Epoch 8/100\n",
            "10/10 - 5s - 452ms/step - accuracy: 0.4800 - loss: 1.1997 - val_accuracy: 0.3702 - val_loss: 1.2363 - learning_rate: 0.0010\n",
            "Epoch 9/100\n",
            "10/10 - 4s - 447ms/step - accuracy: 0.4000 - loss: 1.2959 - val_accuracy: 0.5015 - val_loss: 1.2588 - learning_rate: 0.0010\n",
            "Epoch 10/100\n",
            "10/10 - 5s - 457ms/step - accuracy: 0.2600 - loss: 1.3881 - val_accuracy: 0.5243 - val_loss: 1.2078 - learning_rate: 0.0010\n",
            "Epoch 11/100\n",
            "10/10 - 5s - 460ms/step - accuracy: 0.5600 - loss: 1.1515 - val_accuracy: 0.5136 - val_loss: 1.1392 - learning_rate: 0.0010\n",
            "Epoch 12/100\n",
            "10/10 - 4s - 449ms/step - accuracy: 0.5600 - loss: 1.0062 - val_accuracy: 0.5132 - val_loss: 1.1020 - learning_rate: 0.0010\n",
            "Epoch 13/100\n",
            "10/10 - 4s - 447ms/step - accuracy: 0.4800 - loss: 1.0728 - val_accuracy: 0.5173 - val_loss: 1.0797 - learning_rate: 0.0010\n",
            "Epoch 14/100\n",
            "10/10 - 5s - 455ms/step - accuracy: 0.5800 - loss: 0.9106 - val_accuracy: 0.5621 - val_loss: 1.0760 - learning_rate: 0.0010\n",
            "Epoch 15/100\n",
            "10/10 - 5s - 453ms/step - accuracy: 0.4000 - loss: 1.3507 - val_accuracy: 0.5481 - val_loss: 0.9455 - learning_rate: 0.0010\n",
            "Epoch 16/100\n",
            "10/10 - 5s - 472ms/step - accuracy: 0.4000 - loss: 1.2891 - val_accuracy: 0.5916 - val_loss: 1.0508 - learning_rate: 0.0010\n",
            "Epoch 17/100\n",
            "10/10 - 5s - 493ms/step - accuracy: 0.7600 - loss: 0.6483 - val_accuracy: 0.5668 - val_loss: 0.9486 - learning_rate: 0.0010\n",
            "Epoch 18/100\n",
            "10/10 - 5s - 524ms/step - accuracy: 0.4800 - loss: 1.5831 - val_accuracy: 0.5508 - val_loss: 0.9737 - learning_rate: 0.0010\n",
            "Epoch 19/100\n",
            "10/10 - 5s - 495ms/step - accuracy: 0.6600 - loss: 0.8466 - val_accuracy: 0.5906 - val_loss: 1.1342 - learning_rate: 0.0010\n",
            "Epoch 20/100\n",
            "10/10 - 5s - 480ms/step - accuracy: 0.4200 - loss: 1.4931 - val_accuracy: 0.6714 - val_loss: 1.0053 - learning_rate: 0.0010\n",
            "Epoch 21/100\n",
            "10/10 - 5s - 481ms/step - accuracy: 0.5800 - loss: 1.0099 - val_accuracy: 0.6690 - val_loss: 0.9270 - learning_rate: 0.0010\n",
            "Epoch 22/100\n",
            "10/10 - 5s - 481ms/step - accuracy: 0.5400 - loss: 0.9123 - val_accuracy: 0.6395 - val_loss: 0.8561 - learning_rate: 0.0010\n",
            "Epoch 23/100\n",
            "10/10 - 5s - 483ms/step - accuracy: 0.5000 - loss: 1.2194 - val_accuracy: 0.6871 - val_loss: 0.8176 - learning_rate: 0.0010\n",
            "Epoch 24/100\n",
            "10/10 - 5s - 492ms/step - accuracy: 0.7600 - loss: 0.6271 - val_accuracy: 0.7065 - val_loss: 0.8137 - learning_rate: 0.0010\n",
            "Epoch 25/100\n",
            "10/10 - 5s - 476ms/step - accuracy: 0.5800 - loss: 0.8986 - val_accuracy: 0.6141 - val_loss: 0.8631 - learning_rate: 0.0010\n",
            "Epoch 26/100\n",
            "10/10 - 5s - 508ms/step - accuracy: 0.8000 - loss: 0.5174 - val_accuracy: 0.5558 - val_loss: 0.9203 - learning_rate: 0.0010\n",
            "Epoch 27/100\n",
            "10/10 - 5s - 519ms/step - accuracy: 0.5000 - loss: 1.0079 - val_accuracy: 0.7273 - val_loss: 0.8517 - learning_rate: 0.0010\n",
            "Epoch 28/100\n",
            "10/10 - 5s - 470ms/step - accuracy: 0.8400 - loss: 0.6781 - val_accuracy: 0.7387 - val_loss: 0.7213 - learning_rate: 0.0010\n",
            "Epoch 29/100\n",
            "10/10 - 5s - 462ms/step - accuracy: 0.6800 - loss: 0.8466 - val_accuracy: 0.7390 - val_loss: 0.6254 - learning_rate: 0.0010\n",
            "Epoch 30/100\n",
            "10/10 - 5s - 467ms/step - accuracy: 0.7000 - loss: 0.8922 - val_accuracy: 0.6412 - val_loss: 0.8387 - learning_rate: 0.0010\n",
            "Epoch 31/100\n",
            "10/10 - 5s - 470ms/step - accuracy: 0.6400 - loss: 0.6139 - val_accuracy: 0.6372 - val_loss: 0.7798 - learning_rate: 0.0010\n",
            "Epoch 32/100\n",
            "10/10 - 5s - 498ms/step - accuracy: 0.7800 - loss: 0.5299 - val_accuracy: 0.6332 - val_loss: 0.8077 - learning_rate: 0.0010\n",
            "Epoch 33/100\n",
            "10/10 - 5s - 459ms/step - accuracy: 0.7600 - loss: 0.6175 - val_accuracy: 0.7347 - val_loss: 0.7497 - learning_rate: 0.0010\n",
            "Epoch 34/100\n",
            "10/10 - 5s - 461ms/step - accuracy: 0.7400 - loss: 0.6092 - val_accuracy: 0.7705 - val_loss: 0.6537 - learning_rate: 0.0010\n",
            "Epoch 35/100\n",
            "10/10 - 5s - 467ms/step - accuracy: 0.7600 - loss: 0.7232 - val_accuracy: 0.7152 - val_loss: 0.7608 - learning_rate: 0.0010\n",
            "Epoch 36/100\n",
            "10/10 - 5s - 462ms/step - accuracy: 0.8000 - loss: 0.3879 - val_accuracy: 0.7132 - val_loss: 0.7198 - learning_rate: 0.0010\n",
            "Epoch 37/100\n",
            "10/10 - 5s - 460ms/step - accuracy: 0.6800 - loss: 0.8382 - val_accuracy: 0.8204 - val_loss: 0.5695 - learning_rate: 0.0010\n",
            "Epoch 38/100\n",
            "10/10 - 5s - 456ms/step - accuracy: 0.8000 - loss: 0.5133 - val_accuracy: 0.8436 - val_loss: 0.4805 - learning_rate: 0.0010\n",
            "Epoch 39/100\n",
            "10/10 - 4s - 445ms/step - accuracy: 0.9200 - loss: 0.2337 - val_accuracy: 0.8472 - val_loss: 0.4499 - learning_rate: 0.0010\n",
            "Epoch 40/100\n",
            "10/10 - 4s - 450ms/step - accuracy: 0.8200 - loss: 0.5496 - val_accuracy: 0.8472 - val_loss: 0.4313 - learning_rate: 0.0010\n",
            "Epoch 41/100\n",
            "10/10 - 5s - 460ms/step - accuracy: 0.8200 - loss: 0.6687 - val_accuracy: 0.8687 - val_loss: 0.4435 - learning_rate: 0.0010\n",
            "Epoch 42/100\n",
            "10/10 - 5s - 460ms/step - accuracy: 0.9000 - loss: 0.4013 - val_accuracy: 0.8184 - val_loss: 0.5482 - learning_rate: 0.0010\n",
            "Epoch 43/100\n",
            "10/10 - 5s - 451ms/step - accuracy: 0.9200 - loss: 0.2451 - val_accuracy: 0.7816 - val_loss: 0.7117 - learning_rate: 0.0010\n",
            "Epoch 44/100\n",
            "10/10 - 5s - 467ms/step - accuracy: 0.9200 - loss: 0.4335 - val_accuracy: 0.7863 - val_loss: 0.7608 - learning_rate: 0.0010\n",
            "Epoch 45/100\n",
            "10/10 - 5s - 466ms/step - accuracy: 0.8200 - loss: 0.4140 - val_accuracy: 0.8714 - val_loss: 0.3658 - learning_rate: 0.0010\n",
            "Epoch 46/100\n",
            "10/10 - 7s - 698ms/step - accuracy: 0.7400 - loss: 0.6108 - val_accuracy: 0.8603 - val_loss: 0.3842 - learning_rate: 0.0010\n",
            "Epoch 47/100\n",
            "10/10 - 7s - 691ms/step - accuracy: 0.8400 - loss: 0.6383 - val_accuracy: 0.8352 - val_loss: 0.4841 - learning_rate: 0.0010\n",
            "Epoch 48/100\n",
            "10/10 - 7s - 727ms/step - accuracy: 0.8600 - loss: 0.3743 - val_accuracy: 0.8412 - val_loss: 0.4622 - learning_rate: 0.0010\n",
            "Epoch 49/100\n",
            "10/10 - 7s - 680ms/step - accuracy: 0.9600 - loss: 0.2405 - val_accuracy: 0.8379 - val_loss: 0.4371 - learning_rate: 0.0010\n",
            "Epoch 50/100\n",
            "10/10 - 7s - 698ms/step - accuracy: 0.9400 - loss: 0.2444 - val_accuracy: 0.8191 - val_loss: 0.5313 - learning_rate: 0.0010\n",
            "Epoch 51/100\n",
            "10/10 - 7s - 692ms/step - accuracy: 0.8000 - loss: 0.5252 - val_accuracy: 0.8727 - val_loss: 0.3481 - learning_rate: 0.0010\n",
            "Epoch 52/100\n",
            "10/10 - 7s - 692ms/step - accuracy: 0.8200 - loss: 0.4231 - val_accuracy: 0.8596 - val_loss: 0.4134 - learning_rate: 0.0010\n",
            "Epoch 53/100\n",
            "10/10 - 7s - 704ms/step - accuracy: 0.8400 - loss: 0.3522 - val_accuracy: 0.8452 - val_loss: 0.4433 - learning_rate: 0.0010\n",
            "Epoch 54/100\n",
            "10/10 - 7s - 722ms/step - accuracy: 0.7200 - loss: 0.6397 - val_accuracy: 0.7541 - val_loss: 0.7408 - learning_rate: 0.0010\n",
            "Epoch 55/100\n",
            "10/10 - 7s - 697ms/step - accuracy: 0.8400 - loss: 0.3976 - val_accuracy: 0.8037 - val_loss: 0.6058 - learning_rate: 0.0010\n",
            "Epoch 56/100\n",
            "10/10 - 7s - 662ms/step - accuracy: 0.8400 - loss: 0.2813 - val_accuracy: 0.8265 - val_loss: 0.5212 - learning_rate: 0.0010\n",
            "Epoch 57/100\n",
            "10/10 - 4s - 450ms/step - accuracy: 0.8000 - loss: 0.4635 - val_accuracy: 0.8077 - val_loss: 0.6350 - learning_rate: 0.0010\n",
            "Epoch 58/100\n",
            "10/10 - 5s - 454ms/step - accuracy: 0.7800 - loss: 0.5696 - val_accuracy: 0.7226 - val_loss: 0.8139 - learning_rate: 0.0010\n",
            "Epoch 59/100\n",
            "10/10 - 5s - 455ms/step - accuracy: 0.7400 - loss: 0.6954 - val_accuracy: 0.8302 - val_loss: 0.4583 - learning_rate: 0.0010\n",
            "Epoch 60/100\n",
            "10/10 - 5s - 452ms/step - accuracy: 0.9800 - loss: 0.1559 - val_accuracy: 0.8616 - val_loss: 0.4051 - learning_rate: 0.0010\n",
            "Epoch 61/100\n",
            "10/10 - 5s - 454ms/step - accuracy: 0.7200 - loss: 0.6514 - val_accuracy: 0.8848 - val_loss: 0.3428 - learning_rate: 0.0010\n",
            "Epoch 62/100\n",
            "10/10 - 5s - 459ms/step - accuracy: 0.8600 - loss: 0.3713 - val_accuracy: 0.8734 - val_loss: 0.3507 - learning_rate: 0.0010\n",
            "Epoch 63/100\n",
            "10/10 - 4s - 447ms/step - accuracy: 0.9600 - loss: 0.1797 - val_accuracy: 0.8747 - val_loss: 0.3374 - learning_rate: 0.0010\n",
            "Epoch 64/100\n",
            "10/10 - 5s - 457ms/step - accuracy: 0.8400 - loss: 0.4657 - val_accuracy: 0.8486 - val_loss: 0.4288 - learning_rate: 0.0010\n",
            "Epoch 65/100\n",
            "10/10 - 5s - 457ms/step - accuracy: 0.8400 - loss: 0.3571 - val_accuracy: 0.8436 - val_loss: 0.4218 - learning_rate: 0.0010\n",
            "Epoch 66/100\n",
            "10/10 - 5s - 454ms/step - accuracy: 0.9600 - loss: 0.1747 - val_accuracy: 0.8710 - val_loss: 0.3464 - learning_rate: 0.0010\n",
            "Epoch 67/100\n",
            "10/10 - 4s - 446ms/step - accuracy: 0.9600 - loss: 0.1964 - val_accuracy: 0.8838 - val_loss: 0.3347 - learning_rate: 0.0010\n",
            "Epoch 68/100\n",
            "10/10 - 5s - 451ms/step - accuracy: 0.8200 - loss: 0.4524 - val_accuracy: 0.8727 - val_loss: 0.3514 - learning_rate: 0.0010\n",
            "Epoch 69/100\n",
            "10/10 - 6s - 631ms/step - accuracy: 0.9000 - loss: 0.3733 - val_accuracy: 0.8744 - val_loss: 0.3642 - learning_rate: 0.0010\n",
            "Epoch 70/100\n",
            "10/10 - 5s - 462ms/step - accuracy: 0.8800 - loss: 0.4411 - val_accuracy: 0.9008 - val_loss: 0.2852 - learning_rate: 0.0010\n",
            "Epoch 71/100\n",
            "10/10 - 5s - 463ms/step - accuracy: 0.9400 - loss: 0.2008 - val_accuracy: 0.8529 - val_loss: 0.4043 - learning_rate: 0.0010\n",
            "Epoch 72/100\n",
            "10/10 - 4s - 447ms/step - accuracy: 0.9600 - loss: 0.1982 - val_accuracy: 0.8861 - val_loss: 0.3327 - learning_rate: 0.0010\n",
            "Epoch 73/100\n",
            "10/10 - 4s - 443ms/step - accuracy: 0.9600 - loss: 0.1249 - val_accuracy: 0.9146 - val_loss: 0.2532 - learning_rate: 0.0010\n",
            "Epoch 74/100\n",
            "10/10 - 5s - 454ms/step - accuracy: 0.8800 - loss: 0.2976 - val_accuracy: 0.9206 - val_loss: 0.2333 - learning_rate: 0.0010\n",
            "Epoch 75/100\n",
            "10/10 - 4s - 446ms/step - accuracy: 0.9600 - loss: 0.0901 - val_accuracy: 0.9156 - val_loss: 0.2569 - learning_rate: 0.0010\n",
            "Epoch 76/100\n",
            "10/10 - 5s - 478ms/step - accuracy: 0.8800 - loss: 0.4241 - val_accuracy: 0.9166 - val_loss: 0.2377 - learning_rate: 0.0010\n",
            "Epoch 77/100\n",
            "10/10 - 5s - 479ms/step - accuracy: 0.9200 - loss: 0.2019 - val_accuracy: 0.9055 - val_loss: 0.2457 - learning_rate: 0.0010\n",
            "Epoch 78/100\n",
            "10/10 - 5s - 457ms/step - accuracy: 0.8200 - loss: 0.5487 - val_accuracy: 0.9129 - val_loss: 0.2589 - learning_rate: 0.0010\n",
            "Epoch 79/100\n",
            "10/10 - 4s - 448ms/step - accuracy: 0.9200 - loss: 0.2920 - val_accuracy: 0.8760 - val_loss: 0.3392 - learning_rate: 0.0010\n",
            "Epoch 80/100\n",
            "10/10 - 5s - 450ms/step - accuracy: 0.8200 - loss: 0.3430 - val_accuracy: 0.8814 - val_loss: 0.3022 - learning_rate: 0.0010\n",
            "Epoch 81/100\n",
            "10/10 - 4s - 443ms/step - accuracy: 0.9800 - loss: 0.1934 - val_accuracy: 0.9002 - val_loss: 0.2786 - learning_rate: 0.0010\n",
            "Epoch 82/100\n",
            "10/10 - 5s - 452ms/step - accuracy: 0.9600 - loss: 0.1516 - val_accuracy: 0.8955 - val_loss: 0.3124 - learning_rate: 0.0010\n",
            "Epoch 83/100\n",
            "10/10 - 5s - 460ms/step - accuracy: 0.9000 - loss: 0.3992 - val_accuracy: 0.8821 - val_loss: 0.3818 - learning_rate: 0.0010\n",
            "Epoch 84/100\n",
            "10/10 - 5s - 450ms/step - accuracy: 0.8600 - loss: 0.2842 - val_accuracy: 0.8841 - val_loss: 0.3438 - learning_rate: 0.0010\n",
            "Epoch 84: early stopping\n",
            "Restoring model weights from the end of the best epoch: 74.\n"
          ]
        }
      ],
      "source": [
        "model_fit = model.fit(\n",
        "    train_dataset,\n",
        "    steps_per_epoch=10,\n",
        "    epochs=100,\n",
        "    validation_data=validation_dataset,\n",
        "    callbacks=[rlrop, early_stop],\n",
        "    verbose=2\n",
        ")"
      ]
    },
    {
      "cell_type": "code",
      "execution_count": 23,
      "id": "ee82e3d7",
      "metadata": {
        "colab": {
          "base_uri": "https://localhost:8080/",
          "height": 927
        },
        "id": "ee82e3d7",
        "outputId": "8dc66add-c854-4699-f962-0b1a5a6a0264"
      },
      "outputs": [
        {
          "data": {
            "image/png": "[encoded data removed]",
            "text/plain": [
              "<Figure size 640x480 with 1 Axes>"
            ]
          },
          "metadata": {},
          "output_type": "display_data"
        },
        {
          "data": {
            "image/png": "[encoded data removed]",
            "text/plain": [
              "<Figure size 640x480 with 1 Axes>"
            ]
          },
          "metadata": {},
          "output_type": "display_data"
        }
      ],
      "source": [
        "plt.plot(model_fit.history['accuracy'], label='Training Accuracy')\n",
        "plt.plot(model_fit.history['val_accuracy'], label='Validation Accuracy')\n",
        "plt.title('Training and Validation Accuracy')\n",
        "plt.ylabel('value')\n",
        "plt.xlabel('No. epoch')\n",
        "plt.legend(loc=\"upper left\")\n",
        "plt.show()\n",
        "\n",
        "plt.plot(model_fit.history['loss'], label='Training Loss')\n",
        "plt.plot(model_fit.history['val_loss'], label='Validation Loss')\n",
        "plt.title('Training and Validation Loss')\n",
        "plt.ylabel('value')\n",
        "plt.xlabel('No. epoch')\n",
        "plt.legend(loc=\"upper left\")\n",
        "plt.show()"
      ]
    },
    {
      "cell_type": "code",
      "execution_count": 24,
      "id": "5e7fd5a8",
      "metadata": {
        "colab": {
          "base_uri": "https://localhost:8080/",
          "height": 1000
        },
        "id": "5e7fd5a8",
        "outputId": "5cf704ac-0292-45fc-c79d-c1dd9d8fb289"
      },
      "outputs": [],
      "source": [
        "# dir_path = 'C:\\\\TA\\\\trainCNN\\\\30cm' # Original\n",
        "# dir_path = r'C:\\TA\\trainCNN\\30cm' origin\n",
        "\n",
        "dir_path = r'C:/TA/trainCNN/dataset'\n",
        "\n",
        "for i in os.listdir(dir_path):\n",
        "    full_path = os.path.join(dir_path, i)\n",
        "    if os.path.isfile(full_path):  # Check if it's a file\n",
        "        img = image.load_img(full_path, target_size=(30, 200))\n",
        "        plt.imshow(img)\n",
        "        plt.show()\n",
        "        print(dir_path+'\\\\'+i)\n",
        "    # img = image.load_img(dir_path+'\\\\'+ i, target_size=(30,200))\n",
        "    # plt.imshow(img)\n",
        "    # plt.show()\n",
        "\n",
        "        X = image.img_to_array(img)\n",
        "        X = np.expand_dims(X, axis = 0)\n",
        "        images = np.vstack([X])\n",
        "        predict_result = model.predict(images)[0]\n",
        "        if predict_result[0] == 1 :\n",
        "            print('Kanan')\n",
        "        elif predict_result[1] == 1 :\n",
        "            print('Kiri')\n",
        "        elif predict_result[2] == 1 :\n",
        "            print('Maju')\n",
        "        elif predict_result[3] == 1 :\n",
        "            print('Mundur')\n",
        "        elif predict_result[4] == 1 :\n",
        "            print('Stop')\n",
        "        else :\n",
        "            print('None of Them')"
      ]
    },
    {
      "cell_type": "code",
      "execution_count": 25,
      "id": "dbb91e1b",
      "metadata": {
        "colab": {
          "base_uri": "https://localhost:8080/"
        },
        "id": "dbb91e1b",
        "outputId": "2eb1d5e4-d362-4dfd-dc45-5b01d45c021b"
      },
      "outputs": [
        {
          "name": "stderr",
          "output_type": "stream",
          "text": [
            "WARNING:absl:You are saving your model as an HDF5 file via `model.save()` or `keras.saving.save_model(model)`. This file format is considered legacy. We recommend using instead the native Keras format, e.g. `model.save('my_model.keras')` or `keras.saving.save_model(model, 'my_model.keras')`. \n"
          ]
        },
        {
          "name": "stdout",
          "output_type": "stream",
          "text": [
            "Saved model to disk\n"
          ]
        }
      ],
      "source": [
        "# serialize model to JSON\n",
        "model_json = model.to_json()\n",
        "with open(\"model.json\", \"w\") as json_file:\n",
        "    json_file.write(model_json)\n",
        "# serialize weights to HDF5\n",
        "model.save(\"model.h5\")\n",
        "print(\"Saved model to disk\")"
      ]
    },
    {
      "cell_type": "markdown",
      "id": "wnSVCEuX1Wkc",
      "metadata": {
        "id": "wnSVCEuX1Wkc"
      },
      "source": [
        "# **MODEL TESTING AND VALIDATING**"
      ]
    },
    {
      "cell_type": "code",
      "execution_count": 15,
      "id": "3f98c0fb",
      "metadata": {
        "id": "3f98c0fb"
      },
      "outputs": [],
      "source": [
        "from sklearn.metrics import confusion_matrix, classification_report\n",
        "from tensorflow.keras.models import load_model\n",
        "from tensorflow.keras.preprocessing.image import ImageDataGenerator\n",
        "from tensorflow.keras.preprocessing import image\n",
        "from tensorflow.keras.optimizers import RMSprop\n",
        "from keras.callbacks import ReduceLROnPlateau\n",
        "import tensorflow as tf\n",
        "import matplotlib.pyplot as plt\n",
        "import cv2\n",
        "import os\n",
        "import numpy as np\n",
        "import pandas as pd"
      ]
    },
    {
      "cell_type": "code",
      "execution_count": 16,
      "id": "cb5fa14a",
      "metadata": {
        "id": "cb5fa14a"
      },
      "outputs": [
        {
          "name": "stderr",
          "output_type": "stream",
          "text": [
            "WARNING:absl:Compiled the loaded model, but the compiled metrics have yet to be built. `model.compile_metrics` will be empty until you train or evaluate the model.\n"
          ]
        }
      ],
      "source": [
        "# Muat model yang telah dilatih dari file model.h5\n",
        "# lmodel = load_model('C:\\\\TA\\\\trainCNN\\\\model_5_t.h5')\n",
        "lmodel = load_model('model.h5')"
      ]
    },
    {
      "cell_type": "code",
      "execution_count": 26,
      "id": "819c6105",
      "metadata": {
        "colab": {
          "base_uri": "https://localhost:8080/"
        },
        "id": "819c6105",
        "outputId": "f2d73d87-c64b-4ed6-b033-81d9f1b98484"
      },
      "outputs": [
        {
          "name": "stdout",
          "output_type": "stream",
          "text": [
            "Found 10000 images belonging to 5 classes.\n"
          ]
        }
      ],
      "source": [
        "# Inisialisasi objek ImageDataGenerator untuk data pelatihan\n",
        "train_datagen = ImageDataGenerator(rescale = 1/255)\n",
        "\n",
        "# Memuat data pelatihan dari direktori\n",
        "# train_dataset = train_datagen.flow_from_directory('30cm/validation/',\n",
        "#                                                   target_size=(30, 200),  # Ukuran gambar yang diinginkan\n",
        "#                                                   batch_size=3,\n",
        "#                                                   shuffle=False,\n",
        "#                                                   class_mode='categorical')\n",
        "\n",
        "train_dataset = train_datagen.flow_from_directory(myDir,\n",
        "                                                  target_size=(30, 200),  # UKuran gambar yang diinginkan\n",
        "                                                  batch_size=3,\n",
        "                                                  shuffle=False,\n",
        "                                                  class_mode='categorical')\n"
      ]
    },
    {
      "cell_type": "code",
      "execution_count": 22,
      "id": "9e8d4a16",
      "metadata": {},
      "outputs": [
        {
          "data": {
            "text/plain": [
              "<keras.src.legacy.preprocessing.image.DirectoryIterator at 0x1b4d05a4b30>"
            ]
          },
          "execution_count": 22,
          "metadata": {},
          "output_type": "execute_result"
        }
      ],
      "source": [
        "train_dataset"
      ]
    },
    {
      "cell_type": "code",
      "execution_count": 24,
      "id": "4aada80d",
      "metadata": {
        "colab": {
          "base_uri": "https://localhost:8080/"
        },
        "id": "4aada80d",
        "outputId": "b3beefca-bde1-46ff-d5b0-71ad14513687"
      },
      "outputs": [
        {
          "ename": "AttributeError",
          "evalue": "'DirectoryIterator' object has no attribute 'next'",
          "output_type": "error",
          "traceback": [
            "\u001b[1;31m---------------------------------------------------------------------------\u001b[0m",
            "\u001b[1;31mAttributeError\u001b[0m                            Traceback (most recent call last)",
            "Cell \u001b[1;32mIn[24], line 8\u001b[0m\n\u001b[0;32m      5\u001b[0m y_train_pred \u001b[38;5;241m=\u001b[39m []\n\u001b[0;32m      7\u001b[0m \u001b[38;5;28;01mfor\u001b[39;00m _ \u001b[38;5;129;01min\u001b[39;00m \u001b[38;5;28mrange\u001b[39m(num_batches):\n\u001b[1;32m----> 8\u001b[0m     X_train, y_batch_true \u001b[38;5;241m=\u001b[39m \u001b[43mtrain_dataset\u001b[49m\u001b[38;5;241;43m.\u001b[39;49m\u001b[43mnext\u001b[49m()\n\u001b[0;32m      9\u001b[0m     y_batch_pred \u001b[38;5;241m=\u001b[39m lmodel\u001b[38;5;241m.\u001b[39mpredict(X_train)\n\u001b[0;32m     10\u001b[0m     y_batch_pred \u001b[38;5;241m=\u001b[39m np\u001b[38;5;241m.\u001b[39margmax(y_batch_pred, axis\u001b[38;5;241m=\u001b[39m\u001b[38;5;241m1\u001b[39m)\n",
            "\u001b[1;31mAttributeError\u001b[0m: 'DirectoryIterator' object has no attribute 'next'"
          ]
        }
      ],
      "source": [
        "# num_batches = len(train_dataset)\n",
        "num_batches = len(train_dataset)\n",
        "\n",
        "y_train_true = []\n",
        "y_train_pred = []\n",
        "\n",
        "for _ in range(num_batches):\n",
        "    X_train, y_batch_true = train_dataset.next()\n",
        "    y_batch_pred = lmodel.predict(X_train)\n",
        "    y_batch_pred = np.argmax(y_batch_pred, axis=1)\n",
        "\n",
        "    y_train_true.extend(np.argmax(y_batch_true, axis=1))\n",
        "    y_train_pred.extend(y_batch_pred)"
      ]
    },
    {
      "cell_type": "code",
      "execution_count": null,
      "id": "bff96f25",
      "metadata": {
        "id": "bff96f25"
      },
      "outputs": [],
      "source": [
        "# Mengubah list menjadi array numpy\n",
        "y_train_true = np.array(y_train_true)\n",
        "y_train_pred = np.array(y_train_pred)\n",
        "\n",
        "# Menghitung confusion matrix\n",
        "cm_train = confusion_matrix(y_train_true, y_train_pred)"
      ]
    },
    {
      "cell_type": "code",
      "execution_count": null,
      "id": "c1f457c6",
      "metadata": {
        "colab": {
          "base_uri": "https://localhost:8080/",
          "height": 487
        },
        "id": "c1f457c6",
        "outputId": "ef5a0a5d-311d-4be1-8255-8f44aad6ee20"
      },
      "outputs": [],
      "source": [
        "# Definisikan label kelas\n",
        "class_names = ['Kanan',\n",
        "               'Kiri',\n",
        "               'Maju',\n",
        "               'Mundur',\n",
        "               'Stop'\n",
        "              ]  # Nama kelas\n",
        "\n",
        "# Tampilkan confusion matrix menggunakan matplotlib\n",
        "plt.imshow(cm_train, interpolation='nearest', cmap=plt.cm.Blues)\n",
        "plt.title('Confusion Matrix')\n",
        "# plt.colorbar()\n",
        "\n",
        "# Atur label pada sumbu x dan y\n",
        "tick_marks = np.arange(len(class_names))\n",
        "plt.xticks(tick_marks, class_names, rotation=90)\n",
        "plt.yticks(tick_marks, class_names)\n",
        "\n",
        "# Tulis nilai pada setiap sel confusion matrix\n",
        "thresh = cm_train.max() / 2.\n",
        "for i, j in np.ndindex(cm_train.shape):\n",
        "    plt.text(j, i, format(cm_train[i, j], 'd'),\n",
        "             horizontalalignment=\"center\",\n",
        "             color=\"white\" if cm_train[i, j] > thresh else \"black\")\n",
        "\n",
        "# Atur label pada sumbu x dan y\n",
        "plt.xlabel('Predicted Label')\n",
        "plt.ylabel('True Label')\n",
        "\n",
        "# Tampilkan plot confusion matrix\n",
        "plt.tight_layout()\n",
        "plt.show()"
      ]
    },
    {
      "cell_type": "code",
      "execution_count": null,
      "id": "da003391",
      "metadata": {},
      "outputs": [],
      "source": [
        "import tensorflow as tf\n",
        "from keras.models import Sequential\n",
        "from keras.layers import Dense\n",
        "from keras.utils.vis_utils import plot_model\n",
        "from keras.callbacks import ReduceLROnPlateau\n",
        "\n",
        "\n",
        "import os\n",
        "os.environ[\"PATH\"] += os.pathsep + 'C:/Program Files/Graphviz/bin'\n",
        "\n",
        "# Define your model architecture\n",
        "model = tf.keras.models.Sequential([\n",
        "    # First convolutional layer\n",
        "    tf.keras.layers.Conv2D(32, (3,3), activation='relu', input_shape=(30, 200, 3), padding='same'),\n",
        "    tf.keras.layers.MaxPool2D(2,2),\n",
        "\n",
        "    # Second convolutional layer\n",
        "    tf.keras.layers.Conv2D(64, (3,3), activation='relu', padding='same'),\n",
        "    tf.keras.layers.MaxPool2D(2,2),\n",
        "\n",
        "    # Third convolutional layer\n",
        "    tf.keras.layers.Conv2D(128, (3,3), activation='relu', padding='same'),\n",
        "    tf.keras.layers.MaxPool2D(2,2),\n",
        "\n",
        "    # Dropout layer added after max pooling\n",
        "    tf.keras.layers.Dropout(0.25),  # Typically, a dropout rate between 0.2 and 0.5 is used\n",
        "\n",
        "    # Flatten the output and feed it into a dense layer\n",
        "    tf.keras.layers.Flatten(),\n",
        "\n",
        "    # Dense layer with fewer neurons\n",
        "    tf.keras.layers.Dense(256, activation='relu'),\n",
        "\n",
        "    # Dropout layer added before the output layer\n",
        "    tf.keras.layers.Dropout(0.5),  # Typically, a dropout rate between 0.2 and 0.5 is used\n",
        "\n",
        "    # Output layer\n",
        "    tf.keras.layers.Dense(5, activation='softmax')\n",
        "])\n",
        "\n",
        "# Define ReduceLROnPlateau callback\n",
        "rlrop = ReduceLROnPlateau(monitor='val_loss', factor=0.1, patience=100)\n",
        "\n",
        "# Compile the model\n",
        "model.compile(loss='categorical_crossentropy', optimizer='Adam', metrics=['accuracy'])\n",
        "\n",
        "# Visualize the model architecture\n",
        "plot_model(model, to_file='model_plot.png', show_shapes=True, show_layer_names=True)"
      ]
    },
    {
      "cell_type": "code",
      "execution_count": null,
      "id": "d4547f53",
      "metadata": {},
      "outputs": [],
      "source": [
        "import keras\n",
        "from keras.models import Sequential\n",
        "from keras.layers import Conv2D, MaxPooling2D, Flatten, Dense\n",
        "\n",
        "# Define your model architecture\n",
        "model = tf.keras.models.Sequential([\n",
        "    # First convolutional layer\n",
        "    tf.keras.layers.Conv2D(32, (3,3), activation='relu', input_shape=(30, 200, 3), padding='same'),\n",
        "    tf.keras.layers.MaxPool2D(2,2),\n",
        "\n",
        "    # Second convolutional layer\n",
        "    tf.keras.layers.Conv2D(64, (3,3), activation='relu', padding='same'),\n",
        "    tf.keras.layers.MaxPool2D(2,2),\n",
        "\n",
        "    # Third convolutional layer\n",
        "    tf.keras.layers.Conv2D(128, (3,3), activation='relu', padding='same'),\n",
        "    tf.keras.layers.MaxPool2D(2,2),\n",
        "\n",
        "    # Dropout layer added after max pooling\n",
        "    tf.keras.layers.Dropout(0.25),  # Typically, a dropout rate between 0.2 and 0.5 is used\n",
        "\n",
        "    # Flatten the output and feed it into a dense layer\n",
        "    tf.keras.layers.Flatten(),\n",
        "\n",
        "    # Dense layer with fewer neurons\n",
        "    tf.keras.layers.Dense(256, activation='relu'),\n",
        "\n",
        "    # Dropout layer added before the output layer\n",
        "    tf.keras.layers.Dropout(0.5),  # Typically, a dropout rate between 0.2 and 0.5 is used\n",
        "\n",
        "    # Output layer\n",
        "    tf.keras.layers.Dense(5, activation='softmax')\n",
        "])\n",
        "\n",
        "# Define ReduceLROnPlateau callback\n",
        "rlrop = ReduceLROnPlateau(monitor='val_loss', factor=0.1, patience=100)\n",
        "\n",
        "# Compile the model\n",
        "model.compile(loss='categorical_crossentropy', optimizer='Adam', metrics=['accuracy'])\n",
        "\n",
        "# Visualize the architecture using Visualkeras\n",
        "import visualkeras\n",
        "visualkeras.layered_view(model).show()  # Display using your system viewer\n",
        "\n",
        "visualkeras.layered_view(model, to_file='lenet_architecture.png')"
      ]
    },
    {
      "cell_type": "code",
      "execution_count": null,
      "id": "7a17460c",
      "metadata": {
        "colab": {
          "base_uri": "https://localhost:8080/"
        },
        "id": "7a17460c",
        "outputId": "a5cbd4c2-9455-487b-e00b-cc0b086af9d9"
      },
      "outputs": [],
      "source": [
        "# Menghitung jumlah true positive (diagonal utama)\n",
        "tp = np.diag(cm_train).sum()\n",
        "\n",
        "# Menghitung jumlah total sampel\n",
        "total = cm_train.sum()\n",
        "\n",
        "# Menghitung akurasi\n",
        "accuracy = tp / total\n",
        "accuracy = np.round(accuracy, 4)\n",
        "\n",
        "# Tampilkan akurasi\n",
        "print('Accuracy:', accuracy)"
      ]
    },
    {
      "cell_type": "code",
      "execution_count": null,
      "id": "c5dcddde",
      "metadata": {
        "colab": {
          "base_uri": "https://localhost:8080/"
        },
        "id": "c5dcddde",
        "outputId": "7f47124e-8987-463e-cf65-e333f3781d2c"
      },
      "outputs": [],
      "source": [
        "data_1 = {'TP': cm_train.diagonal(), 'TN': np.sum(cm_train) - (cm_train.sum(axis=0) + cm_train.sum(axis=1) - cm_train.diagonal()), 'FP': cm_train.sum(axis=0) - cm_train.diagonal(), 'FN': cm_train.sum(axis=1) - cm_train.diagonal()}\n",
        "df_1 = pd.DataFrame(data_1, columns=['TP', 'TN', 'FP', 'FN'], index=['Kanan', 'Kiri', 'Maju','Mundur','Stop'])\n",
        "\n",
        "print(df_1)"
      ]
    },
    {
      "cell_type": "code",
      "execution_count": null,
      "id": "f4c5feb3",
      "metadata": {
        "colab": {
          "base_uri": "https://localhost:8080/"
        },
        "id": "f4c5feb3",
        "outputId": "040ecba5-9ab4-46df-bb39-ad0009575350"
      },
      "outputs": [],
      "source": [
        "TP = np.diag(cm_train)\n",
        "FP = np.sum(cm_train, axis=0) - TP\n",
        "FN = np.sum(cm_train, axis=1) - TP\n",
        "TN = np.sum(cm_train) - (TP + FP + FN)\n",
        "accuracy = (TP + TN) / np.sum(cm_train)\n",
        "precision = TP / (TP + FP)\n",
        "recall = TP / (TP + FN)\n",
        "f1_score = 2 * (precision * recall) / (precision + recall)\n",
        "\n",
        "accuracy = np.round(accuracy, 4)\n",
        "precision = np.round(precision, 4)\n",
        "recall = np.round(recall, 4)\n",
        "f1_score = np.round(f1_score, 4)\n",
        "\n",
        "data_2 = {'Accuracy': accuracy, 'Precision': precision, 'Recall': recall, 'F1-Score': f1_score}\n",
        "df_2 = pd.DataFrame(data_2, columns=['Accuracy', 'Precision', 'Recall', 'F1-Score'], index=['Kanan', 'Kiri', 'Maju','Mundur','Stop'])\n",
        "\n",
        "print(df_2)"
      ]
    },
    {
      "cell_type": "code",
      "execution_count": null,
      "id": "ff8059a9",
      "metadata": {
        "colab": {
          "base_uri": "https://localhost:8080/"
        },
        "id": "ff8059a9",
        "outputId": "b10c321e-4955-4e37-b130-1b7f20a79d7d"
      },
      "outputs": [],
      "source": [
        "report = classification_report(y_train_true, y_train_pred)\n",
        "print(report)"
      ]
    }
  ],
  "metadata": {
    "accelerator": "GPU",
    "colab": {
      "gpuType": "T4",
      "provenance": []
    },
    "kernelspec": {
      "display_name": "Python 3",
      "name": "python3"
    },
    "language_info": {
      "codemirror_mode": {
        "name": "ipython",
        "version": 3
      },
      "file_extension": ".py",
      "mimetype": "text/x-python",
      "name": "python",
      "nbconvert_exporter": "python",
      "pygments_lexer": "ipython3",
      "version": "3.12.6"
    },
    "vscode": {
      "interpreter": {
        "hash": "5d8b4049098fc36e90d33897a9d18eb78904244d16dca42cf10c943b100511fb"
      }
    }
  },
  "nbformat": 4,
  "nbformat_minor": 5
}
